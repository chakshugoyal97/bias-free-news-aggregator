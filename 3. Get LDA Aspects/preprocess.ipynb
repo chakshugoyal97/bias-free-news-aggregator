{
 "cells": [
  {
   "cell_type": "code",
   "execution_count": 1,
   "metadata": {},
   "outputs": [],
   "source": [
    "import pandas as pd\n",
    "import numpy as np\n",
    "import pickle\n",
    "import re\n",
    "import timeit\n",
    "import spacy\n",
    "import bson\n",
    "import gensim\n",
    "import gensim.corpora as corpora\n",
    "from gensim.utils import simple_preprocess\n",
    "from gensim.models import CoherenceModel, HdpModel, LdaModel, LdaMulticore\n",
    "from nltk.corpus import stopwords\n",
    "import helper as he\n",
    "stop_words = stopwords.words('english')"
   ]
  },
  {
   "cell_type": "markdown",
   "metadata": {},
   "source": [
    "## Load data"
   ]
  },
  {
   "cell_type": "code",
   "execution_count": 4,
   "metadata": {},
   "outputs": [
    {
     "name": "stdout",
     "output_type": "stream",
     "text": [
      "Loading Documents...\n"
     ]
    }
   ],
   "source": [
    "event_name = \"aadhar\" # \"farmers\", \"gst\", \"demonetization\"\n",
    "print('Loading Documents...')\n",
    "documents = []\n",
    "with open( event_name+'-all.bson','rb') as f:\n",
    "    data = bson.decode_all(f.read())\n",
    "for article in data:\n",
    "    documents.append(article['text'])"
   ]
  },
  {
   "cell_type": "markdown",
   "metadata": {},
   "source": [
    "## Document Preprocessing"
   ]
  },
  {
   "cell_type": "code",
   "execution_count": 5,
   "metadata": {},
   "outputs": [
    {
     "name": "stdout",
     "output_type": "stream",
     "text": [
      "Simple Preprocessing\n"
     ]
    }
   ],
   "source": [
    "print('Simple Preprocessing')\n",
    "\n",
    "data = documents.copy()\n",
    "# Removes phrases with @ in them\n",
    "data = [re.sub('\\S*@\\S*\\s?', '', sent) for sent in data]\n",
    "# Truncates multiple consecutive whitespace to one\n",
    "data = [re.sub('\\s+', ' ', sent) for sent in data]\n",
    "# Removes ' characters\n",
    "data = [re.sub(\"\\'\", \"\", sent) for sent in data]"
   ]
  },
  {
   "cell_type": "code",
   "execution_count": 6,
   "metadata": {},
   "outputs": [
    {
     "name": "stdout",
     "output_type": "stream",
     "text": [
      "Building Bigrams\n",
      "Removing Stopwords\n",
      "Forming Bigrams\n",
      "Lemmatizing Data\n"
     ]
    }
   ],
   "source": [
    "data_words = list(he.sent_to_words(data))\n",
    "print('Building Bigrams')\n",
    "# Making Bigrams - Higher the threshold, fewer the phrases\n",
    "bigram = gensim.models.Phrases(data_words, min_count=5, threshold=100)\n",
    "bigram_mod = gensim.models.phrases.Phraser(bigram)\n",
    "print('Removing Stopwords')\n",
    "# Remove Stop Words\n",
    "data_words_nostops = he.remove_stopwords(data_words, stop_words)\n",
    "print('Forming Bigrams')\n",
    "# Form Bigrams\n",
    "data_words_bigrams = he.make_bigrams(data_words_nostops, bigram_mod)\n",
    "print('Lemmatizing Data')\n",
    "# Lemmatize Data\n",
    "data_lemmatized = he.lemmatization(data_words_bigrams, allowed_postags=[\n",
    "    'NOUN', 'ADJ', 'VERB', 'ADV'])"
   ]
  },
  {
   "cell_type": "markdown",
   "metadata": {},
   "source": [
    "## Dictionary"
   ]
  },
  {
   "cell_type": "code",
   "execution_count": 7,
   "metadata": {},
   "outputs": [
    {
     "name": "stdout",
     "output_type": "stream",
     "text": [
      "Creating Dictionary\n"
     ]
    }
   ],
   "source": [
    "# The keep_n parameter controls the size of the vocabulary.\n",
    "# At this stage, we have to manually experiment with various vocabulary sizes to see what works best.\n",
    "# I found that ~8-10% of the number of documents is a good size.\n",
    "# For Digital India, I used vocab size of 1000 (12412 documents).\n",
    "# For GST, I used a vocab size of 1500 (15k documents approx)\n",
    "\n",
    "print('Creating Dictionary')\n",
    "# Create Dictionary\n",
    "id2word = corpora.Dictionary(data_lemmatized)\n",
    "# Filter words\n",
    "id2word.filter_extremes(no_below=5, no_above=0.95,\n",
    "                        keep_n=1800, keep_tokens=None)"
   ]
  },
  {
   "cell_type": "code",
   "execution_count": 8,
   "metadata": {},
   "outputs": [
    {
     "name": "stdout",
     "output_type": "stream",
     "text": [
      "Converting corpus using dictionary\n"
     ]
    }
   ],
   "source": [
    "# Lemmatized data is your corpus\n",
    "\n",
    "print('Converting corpus using dictionary')\n",
    "# Term Document Frequency\n",
    "corpus = [id2word.doc2bow(text) for text in data_lemmatized]\n",
    "\n",
    "# Save Data in pickle file\n",
    "with open('corp_'+event_name+'.pkl', 'wb') as f:\n",
    "    pickle.dump((data_lemmatized, id2word, corpus), f)"
   ]
  },
  {
   "cell_type": "code",
   "execution_count": null,
   "metadata": {},
   "outputs": [],
   "source": []
  }
 ],
 "metadata": {
  "kernelspec": {
   "display_name": "Python 3",
   "language": "python",
   "name": "python3"
  },
  "language_info": {
   "codemirror_mode": {
    "name": "ipython",
    "version": 3
   },
   "file_extension": ".py",
   "mimetype": "text/x-python",
   "name": "python",
   "nbconvert_exporter": "python",
   "pygments_lexer": "ipython3",
   "version": "3.6.9"
  }
 },
 "nbformat": 4,
 "nbformat_minor": 2
}
