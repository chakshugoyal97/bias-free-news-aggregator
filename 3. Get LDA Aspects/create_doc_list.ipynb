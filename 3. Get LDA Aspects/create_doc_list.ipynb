{
 "cells": [
  {
   "cell_type": "code",
   "execution_count": 1,
   "metadata": {},
   "outputs": [],
   "source": [
    "import re\n",
    "from collections import defaultdict\n",
    "import pickle\n",
    "import bson"
   ]
  },
  {
   "cell_type": "markdown",
   "metadata": {},
   "source": [
    "## Get Data stored locally"
   ]
  },
  {
   "cell_type": "code",
   "execution_count": 2,
   "metadata": {},
   "outputs": [
    {
     "name": "stdout",
     "output_type": "stream",
     "text": [
      "Loading Documents.....\n"
     ]
    }
   ],
   "source": [
    "event_name = \"aadhar\" # \"farmers\", \"gst\", \"demonetization\"\n",
    "## Load data\n",
    "data = []\n",
    "print('Loading Documents.....')\n",
    "with open(event_name + '-all.bson','rb') as f:\n",
    "    #data = bson.loads(f.read())\n",
    "    data = bson.decode_all(f.read())"
   ]
  },
  {
   "cell_type": "code",
   "execution_count": 19,
   "metadata": {},
   "outputs": [],
   "source": [
    "date_l=[]\n",
    "text_l=[]\n",
    "date_to_text=defaultdict(list)\n",
    "text_to_date=dict()\n",
    "#Get the date to text dict\n",
    "for item in data:\n",
    "    date_l.append(item['publishedDate'])\n",
    "    text_l.append(item['text'])\n",
    "    date_to_text[item['publishedDate']].append(item['text'])\n",
    "    text_to_date[item['text']]=item['publishedDate']"
   ]
  },
  {
   "cell_type": "code",
   "execution_count": 20,
   "metadata": {},
   "outputs": [],
   "source": [
    "date_l=sorted(date_l)\n",
    "#List sorted on date\n",
    "sorted_text_list=[]\n",
    "sorted_date_to_text=defaultdict(list)\n",
    "sorted_text_to_date=dict()\n",
    "#Populate the sorted text list, and the sorted dicts\n",
    "\n",
    "for date in date_l:\n",
    "    sorted_text_list.extend(date_to_text[date])\n",
    "    #Store the texts corresponding to the date (date picked in sorted order)\n",
    "    sorted_date_to_text[date]=date_to_text[date]\n",
    "    #Similarly populate the sorted text to date mapping (if text is repeated, we take the latest date)\n",
    "    for text in date_to_text[date]:\n",
    "        sorted_text_to_date[text]=date"
   ]
  },
  {
   "cell_type": "markdown",
   "metadata": {},
   "source": [
    "### If it was stored remotely use the beloow code"
   ]
  },
  {
   "cell_type": "code",
   "execution_count": null,
   "metadata": {},
   "outputs": [],
   "source": [
    "\n",
    "# ''' Access to mongo DB'''\n",
    "# client = MongoClient('mongodb://localhost:27017/')\n",
    "# db = client['media-db']\n",
    "# ''' extracting the specific dataset required'''\n",
    "# #db2 = db.aadhar-all\n",
    "\n",
    "# cursor=db['aadhar-all'].find({})\n",
    "# #cursor=db2.find({'publishedDate'})\n",
    "# date_l=[]\n",
    "# text_l=[]\n",
    "# date_to_text=defaultdict(list)\n",
    "# text_to_date=dict()\n",
    "# #Get the date to text dict\n",
    "# for item in cursor:\n",
    "#     date_l.append(item['publishedDate'])\n",
    "#     text_l.append(item['text'])\n",
    "#     date_to_text[item['publishedDate']].append(item['text'])\n",
    "#     text_to_date[item['text']]=item['publishedDate']\n",
    "\n",
    "# date_l=sorted(date_l)"
   ]
  },
  {
   "cell_type": "code",
   "execution_count": 21,
   "metadata": {},
   "outputs": [
    {
     "name": "stdout",
     "output_type": "stream",
     "text": [
      "2745210\n",
      "84500\n",
      "84500\n"
     ]
    }
   ],
   "source": [
    "print(len(sorted_text_list))\n",
    "print(len(set(sorted_text_list)))\n",
    "print(len(sorted_text_to_date.keys()))\n",
    "\n",
    "#Remove text repetitions\n",
    "stl=list(set(sorted_text_list))"
   ]
  },
  {
   "cell_type": "code",
   "execution_count": 22,
   "metadata": {},
   "outputs": [],
   "source": [
    "pickle.dump(stl,open('doc_mass_'+event_name+'.pkl','wb'))\n",
    "pickle.dump(sorted_date_to_text,open('sorted_date_to_text_'+event_name+'.pkl','wb'))\n",
    "pickle.dump(sorted_text_to_date,open('sorted_text_to_date_'+event_name+'.pkl','wb'))"
   ]
  },
  {
   "cell_type": "code",
   "execution_count": null,
   "metadata": {},
   "outputs": [],
   "source": []
  }
 ],
 "metadata": {
  "kernelspec": {
   "display_name": "Python 3",
   "language": "python",
   "name": "python3"
  },
  "language_info": {
   "codemirror_mode": {
    "name": "ipython",
    "version": 3
   },
   "file_extension": ".py",
   "mimetype": "text/x-python",
   "name": "python",
   "nbconvert_exporter": "python",
   "pygments_lexer": "ipython3",
   "version": "3.6.9"
  }
 },
 "nbformat": 4,
 "nbformat_minor": 2
}
