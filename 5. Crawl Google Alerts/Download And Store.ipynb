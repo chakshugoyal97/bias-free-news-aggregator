{
 "cells": [
  {
   "cell_type": "code",
   "execution_count": 2,
   "metadata": {},
   "outputs": [],
   "source": [
    "## Downloads articles from URLs, and finally outputs a pickle file with event IDs for each article.\n",
    "\n",
    "# Earliest Date on which alert was received- Feb 26, 2019\n",
    "import imaplib\n",
    "import email\n",
    "import pprint\n",
    "from bs4 import BeautifulSoup as BS\n",
    "import newspaper\n",
    "from newspaper import Article\n",
    "from pymongo import MongoClient\n",
    "from  bson import objectid\n",
    "import itertools\n",
    "import pickle\n",
    "\n",
    "from datetime import date, timedelta\n",
    "import time\n",
    "from datetime import datetime\n",
    "import datetime\n",
    "\n",
    "import pandas as pd\n",
    "import numpy as np\n",
    "import psycopg2\n",
    "import re\n",
    "import random"
   ]
  },
  {
   "cell_type": "code",
   "execution_count": 229,
   "metadata": {},
   "outputs": [],
   "source": [
    "def extract_article(url_list):\n",
    "    #headline = []\n",
    "    #body = []\n",
    "    #dates = []\n",
    "    cache = open(\"cache_re.pkl\",'ab')\n",
    "    for i, url_one in enumerate(url_list):\n",
    "        try:\n",
    "            article = Article(url=url_one)\n",
    "            article.download()\n",
    "            article.parse()\n",
    "            headline_one, body_one, dates_one = article.title, article.text, article.publish_date\n",
    "            print(i, \"-> \", article.publish_date)\n",
    "        except Exception as e:\n",
    "            headline_one, body_one, dates_one = '', '', ''\n",
    "            f_exception = open(\"base_o/errors_url_re.txt\",'a')\n",
    "            pp = pprint.PrettyPrinter(indent=4, stream=f_exception)\n",
    "            pp.pprint(\"Exception with URL:\"+url_one)\n",
    "            pp.pprint(str(e))\n",
    "            f_exception.close()\n",
    "\n",
    "        pickle.dump((i, headline_one, body_one, dates_one), cache)\n",
    "        #headline.append(headline_one)\n",
    "        #body.append(body_one)\n",
    "        #dates.append(dates_one)\n",
    "    return"
   ]
  },
  {
   "cell_type": "code",
   "execution_count": 230,
   "metadata": {},
   "outputs": [],
   "source": [
    "def get_URLs():\n",
    "    urls = pd.read_csv('base_o/output.csv')\n",
    "    urls['feed-date'] = urls['feed-date'].apply(lambda x: datetime.strptime(x, '%b %d %Y'))\n",
    "    urls = urls.sort_values(by='feed-date')\n",
    "    urls = urls.reset_index(drop=True)\n",
    "    return urls"
   ]
  },
  {
   "cell_type": "markdown",
   "metadata": {},
   "source": [
    "### Download and parse URLs"
   ]
  },
  {
   "cell_type": "code",
   "execution_count": 231,
   "metadata": {},
   "outputs": [
    {
     "data": {
      "text/plain": [
       "26009"
      ]
     },
     "execution_count": 231,
     "metadata": {},
     "output_type": "execute_result"
    }
   ],
   "source": [
    "urls = get_URLs()\n",
    "len(urls)"
   ]
  },
  {
   "cell_type": "markdown",
   "metadata": {},
   "source": [
    "### Combine everything into 1 single df"
   ]
  },
  {
   "cell_type": "code",
   "execution_count": null,
   "metadata": {},
   "outputs": [],
   "source": [
    "extract_article(urls['link'])\n",
    "#id, title, text, art_dates\n",
    "count=0\n",
    "google_texts = np.empty(shape=(len(urls),3), dtype=object)\n",
    "with open('cache_re.pkl', 'rb') as f:\n",
    "    while f:\n",
    "        try:\n",
    "            a = pickle.load(f)\n",
    "            google_texts[a[0]]=[a[1],a[2],a[3]]\n",
    "            count += 1\n",
    "        except:\n",
    "            f.close()\n",
    "            break\n",
    "print(count)"
   ]
  },
  {
   "cell_type": "code",
   "execution_count": null,
   "metadata": {},
   "outputs": [],
   "source": [
    "urls['title'] = google_texts[:,0]\n",
    "urls['text'] = google_texts[:,1]\n",
    "urls['published-date'] = google_texts[:,2]"
   ]
  },
  {
   "cell_type": "code",
   "execution_count": 237,
   "metadata": {},
   "outputs": [],
   "source": [
    "#Write to Cache\n",
    "# with open('single_cache.pkl', 'wb') as f:\n",
    "#     pickle.dump(urls, f)\n",
    "\n",
    "#Read from Cache\n",
    "with open('single_cache.pkl', 'rb') as f:\n",
    "    urls = pickle.load(f)"
   ]
  },
  {
   "cell_type": "markdown",
   "metadata": {},
   "source": [
    "### Cleaning the ones without date - to None"
   ]
  },
  {
   "cell_type": "code",
   "execution_count": 2,
   "metadata": {},
   "outputs": [],
   "source": [
    "urls['published-date'][urls['published-date'] == ''] = None"
   ]
  },
  {
   "cell_type": "markdown",
   "metadata": {},
   "source": [
    "### Save in DB"
   ]
  },
  {
   "cell_type": "code",
   "execution_count": 263,
   "metadata": {},
   "outputs": [],
   "source": [
    "conn = psycopg2.connect(\"dbname=google_alerts user=debanjan_final password=Deb@12345 host=10.237.26.159 port=5432\")\n",
    "cur = conn.cursor()\n",
    "cur.execute('''CREATE TABLE google_alerts_chakshu\n",
    "     (feed_date DATE NOT NULL,\n",
    "     url TEXT NOT NULL,\n",
    "     title TEXT NOT NULL,\n",
    "     text TEXT NOT NULL,\n",
    "     published_date DATE,\n",
    "     PRIMARY KEY (feed_date, url));\n",
    "         ''')\n",
    "conn.commit()"
   ]
  },
  {
   "cell_type": "code",
   "execution_count": 264,
   "metadata": {},
   "outputs": [],
   "source": [
    "for i, j in urls.iterrows():\n",
    "    cur.execute(\"\"\"INSERT INTO google_alerts_chakshu(feed_date, url, title, text, published_date)\n",
    "        VALUES (%(a)s, %(b)s, %(c)s, %(d)s, %(e)s)\n",
    "        ON CONFLICT DO NOTHING;\"\"\",\n",
    "        {'a':j[0], 'b':j[1], 'c':j[2], 'd':j[3], 'e':j[4]} )\n",
    "conn.commit()\n",
    "conn.close()"
   ]
  },
  {
   "cell_type": "markdown",
   "metadata": {},
   "source": [
    "### Fetch Back & Find Events\n",
    "\n",
    "#### We use a simple rule-based heuristic as descirbed below that checks the captions as well as texts."
   ]
  },
  {
   "cell_type": "code",
   "execution_count": 48,
   "metadata": {},
   "outputs": [],
   "source": [
    "def find_event(caption, text):\n",
    "    if pd.isna(caption):\n",
    "        caption = ''\n",
    "    if pd.isna(text):\n",
    "        text = ''\n",
    "    c0 = len(re.findall(r\"Adhar card|Aadhar|Aadhaar|UIDAI\", caption, re.IGNORECASE))\n",
    "    t0 = len(re.findall(r\"Adhar card|Aadhar|Aadhaar|UIDAI\", text, re.IGNORECASE))\n",
    "    c1 = len(re.findall(r\"GST|Goods and Services Tax|Goods & Services Tax|Excise Duty\", caption, re.IGNORECASE))\n",
    "    t1 = len(re.findall(r\"GST|Goods and Services Tax|Goods & Services Tax|Excise Duty\", text, re.IGNORECASE))\n",
    "    c2 = len(re.findall(r\"demonetis|demonetiz|demonitis|demonitiz|denomination note|cash withdrawal|swipe machine|\"\\\n",
    "                    \"unaccounted money|withdrawal limit|pos machine|fake currency|digital payment|digital \"\\\n",
    "                    \"transaction|cash transaction|cashless economy|black money|cash crunch|currency switch|\"\\\n",
    "                    \"long queue|demonetised note|cashless transaction|note ban|currency switch\", caption, re.IGNORECASE))\n",
    "    t2 = len(re.findall(r\"demonetis|demonetiz|demonitis|demonitiz|denomination note|cash withdrawal|swipe machine|\"\\\n",
    "                    \"unaccounted money|withdrawal limit|pos machine|fake currency|digital payment|digital \"\\\n",
    "                    \"transaction|cash transaction|cashless economy|black money|cash crunch|currency switch|\"\\\n",
    "                    \"long queue|demonetised note|cashless transaction|note ban|currency switch\", text, re.IGNORECASE))\n",
    "    c3 = len(re.findall(r\"loan waiver|farmer loan|farmer suicide|pest infestation|Swaminathan Commission|National \"\\\n",
    "                    \"Commission on Farmer|kisan|monsoon failure|crop failure|fertili(z|s)ers|Seeds Corporation|farmer|\"\\\n",
    "                    \"agricultural\", caption, re.IGNORECASE))\n",
    "    t3 = len(re.findall(r\"loan waiver|farmer loan|farmer suicide|pest infestation|Swaminathan Commission|National \"\\\n",
    "                    \"Commission on Farmer|kisan|monsoon failure|crop failure|fertilizers|Seeds Corporation|farmer|\"\\\n",
    "                    \"agricultural\", text, re.IGNORECASE))\n",
    "    cm, tm = max(c0,c1,c2,c3), max(t0,t1,t2,t3)\n",
    "    if(cm>=1):\n",
    "        if cm == c0 and t0 >= 2:\n",
    "            return 0\n",
    "        if cm == c1 and t1 >= 2: \n",
    "            return 1\n",
    "        if cm == c2 and t2 >= 2: \n",
    "            return 2\n",
    "        if cm == c3 and t3 >= 2: \n",
    "            return 3\n",
    "    if(tm>=3):\n",
    "        if tm == t0:\n",
    "            return 0\n",
    "        if tm == t1: \n",
    "            return 1\n",
    "        if tm == t2: \n",
    "            return 2\n",
    "        if tm == t3: \n",
    "            return 3\n",
    "    return -1"
   ]
  },
  {
   "cell_type": "code",
   "execution_count": 295,
   "metadata": {
    "collapsed": true
   },
   "outputs": [
    {
     "name": "stdout",
     "output_type": "stream",
     "text": [
      "0\n",
      "500\n",
      "1000\n",
      "1500\n",
      "2000\n",
      "2500\n",
      "3000\n",
      "3500\n",
      "4000\n",
      "4500\n",
      "5000\n",
      "5500\n",
      "6000\n",
      "6500\n",
      "7000\n",
      "7500\n",
      "8000\n",
      "8500\n",
      "9000\n",
      "9500\n",
      "10000\n",
      "10500\n",
      "11000\n",
      "11500\n",
      "12000\n",
      "12500\n",
      "13000\n",
      "13500\n",
      "14000\n",
      "14500\n",
      "15000\n",
      "15500\n",
      "16000\n",
      "16500\n",
      "17000\n",
      "17500\n",
      "18000\n",
      "18500\n",
      "19000\n",
      "19500\n",
      "20000\n",
      "20500\n",
      "21000\n",
      "21500\n",
      "22000\n",
      "22500\n",
      "23000\n"
     ]
    }
   ],
   "source": [
    "events=[]\n",
    "conn = psycopg2.connect(\"dbname=google_alerts user=debanjan_final password=Deb@12345 host=10.237.26.159 port=5432\")\n",
    "cur = conn.cursor()\n",
    "cur.execute(\"SELECT * FROM public.google_alerts_chakshu\")\n",
    "count = 0\n",
    "while True:\n",
    "    if count%500 == 0:\n",
    "        print(count)\n",
    "    row = cur.fetchone()\n",
    "    if row == None:\n",
    "        break\n",
    "    events.append(find_event(row[2], row[3]))\n",
    "    count += 1\n",
    "\n",
    "conn.commit()\n",
    "conn.close()\n",
    "# with open(\"event_ids.pkl\", \"wb\") as fp:\n",
    "#     pickle.dump(events, fp)"
   ]
  },
  {
   "cell_type": "markdown",
   "metadata": {},
   "source": [
    "### Store Classifies Articles"
   ]
  },
  {
   "cell_type": "code",
   "execution_count": 296,
   "metadata": {},
   "outputs": [],
   "source": [
    "conn_w = psycopg2.connect(\"dbname=google_alerts user=debanjan_final password=Deb@12345 host=10.237.26.159 port=5432\")\n",
    "cur_w = conn_w.cursor()\n",
    "cur_w.execute('''CREATE TABLE google_alerts_classified_chakshu\n",
    "     (feed_date DATE NOT NULL,\n",
    "     url TEXT NOT NULL,\n",
    "     title TEXT NOT NULL,\n",
    "     text TEXT NOT NULL,\n",
    "     published_date DATE,\n",
    "     event_id INT NOT NULL,\n",
    "     PRIMARY KEY (feed_date, url));\n",
    "         ''')\n",
    "conn_w.commit()\n",
    "conn_w.close()"
   ]
  },
  {
   "cell_type": "code",
   "execution_count": 297,
   "metadata": {
    "collapsed": true
   },
   "outputs": [
    {
     "name": "stdout",
     "output_type": "stream",
     "text": [
      "0\n",
      "500\n",
      "1000\n",
      "1500\n",
      "2000\n",
      "2500\n",
      "3000\n",
      "3500\n",
      "4000\n",
      "4500\n",
      "5000\n",
      "5500\n",
      "6000\n",
      "6500\n",
      "7000\n",
      "7500\n",
      "8000\n",
      "8500\n",
      "9000\n",
      "9500\n",
      "10000\n",
      "10500\n",
      "11000\n",
      "11500\n",
      "12000\n",
      "12500\n",
      "13000\n",
      "13500\n",
      "14000\n",
      "14500\n",
      "15000\n",
      "15500\n",
      "16000\n",
      "16500\n",
      "17000\n",
      "17500\n",
      "18000\n",
      "18500\n",
      "19000\n",
      "19500\n",
      "20000\n",
      "20500\n",
      "21000\n",
      "21500\n",
      "22000\n",
      "22500\n",
      "23000\n"
     ]
    }
   ],
   "source": [
    "#write connection\n",
    "conn_w = psycopg2.connect(\"dbname=google_alerts user=debanjan_final password=Deb@12345 host=10.237.26.159 port=5432\")\n",
    "cur_w = conn_w.cursor()\n",
    "\n",
    "#read connection\n",
    "conn_r = psycopg2.connect(\"dbname=google_alerts user=debanjan_final password=Deb@12345 host=10.237.26.159 port=5432\")\n",
    "cur_r = conn_r.cursor()\n",
    "\n",
    "cur_r.execute(\"SELECT * FROM public.google_alerts_chakshu\")\n",
    "\n",
    "i = 0\n",
    "row_r = cur_r.fetchone()\n",
    "while row_r != None:\n",
    "    cur_w.execute(\"\"\"INSERT INTO google_alerts_classified_chakshu(feed_date, url, title, text, published_date, event_id)\n",
    "                     VALUES (%(a)s, %(b)s, %(c)s, %(d)s, %(e)s, %(f)s)\n",
    "                     ON CONFLICT DO NOTHING;\"\"\",\n",
    "                     {'a':row_r[0], 'b':row_r[1], 'c':row_r[2], 'd':row_r[3], 'e':row_r[4], 'f':events[i]} )\n",
    "    if i%500 == 0:\n",
    "        print(i)\n",
    "    i += 1\n",
    "    row_r = cur_r.fetchone()\n",
    "\n",
    "conn_w.commit()\n",
    "conn_w.close()\n",
    "conn_r.close()"
   ]
  },
  {
   "cell_type": "code",
   "execution_count": 298,
   "metadata": {},
   "outputs": [],
   "source": [
    "google_records = np.empty(shape = (0, 6))"
   ]
  },
  {
   "cell_type": "code",
   "execution_count": 299,
   "metadata": {},
   "outputs": [
    {
     "name": "stdout",
     "output_type": "stream",
     "text": [
      "23314\n"
     ]
    }
   ],
   "source": [
    "conn = psycopg2.connect(\"dbname=google_alerts user=debanjan_final password=Deb@12345 host=10.237.26.159 port=5432\")\n",
    "cur = conn.cursor()\n",
    "\n",
    "cur.execute(\"SELECT * FROM public.google_alerts_classified_chakshu\")\n",
    "count = 0\n",
    "\n",
    "while True:\n",
    "    row = cur.fetchone()\n",
    "    if row == None:\n",
    "        break\n",
    "    google_records = np.vstack( (google_records, np.array([row[0], row[1], row[2], row[3], row[4], row[5]])) )\n",
    "    count += 1\n",
    "conn.close()\n",
    "print(count)\n",
    "\n",
    "# feed-date | url | title | text | published-date | event_id\n",
    "with open(\"google_records.pkl\", \"wb\") as fp:\n",
    "    pickle.dump(google_records, fp)"
   ]
  },
  {
   "cell_type": "code",
   "execution_count": 3,
   "metadata": {},
   "outputs": [],
   "source": [
    "with open(\"google_records.pkl\", \"rb\") as fp:\n",
    "    google_records = pickle.load(fp)"
   ]
  },
  {
   "cell_type": "code",
   "execution_count": 4,
   "metadata": {},
   "outputs": [
    {
     "data": {
      "text/plain": [
       "datetime.date(2019, 2, 26)"
      ]
     },
     "execution_count": 4,
     "metadata": {},
     "output_type": "execute_result"
    }
   ],
   "source": [
    "google_records[0,0]"
   ]
  },
  {
   "cell_type": "markdown",
   "metadata": {},
   "source": [
    "### Validating if event ids are correctly predicted"
   ]
  },
  {
   "cell_type": "code",
   "execution_count": 33,
   "metadata": {},
   "outputs": [],
   "source": [
    "def plot_confusion_matrix(cm,\n",
    "                          target_names,\n",
    "                          title='Confusion matrix',\n",
    "                          cmap=None,\n",
    "                          normalize=True):\n",
    "    \"\"\"\n",
    "    given a sklearn confusion matrix (cm), make a nice plot\n",
    "\n",
    "    Arguments\n",
    "    ---------\n",
    "    cm:           confusion matrix from sklearn.metrics.confusion_matrix\n",
    "\n",
    "    target_names: given classification classes such as [0, 1, 2]\n",
    "                  the class names, for example: ['high', 'medium', 'low']\n",
    "\n",
    "    title:        the text to display at the top of the matrix\n",
    "\n",
    "    cmap:         the gradient of the values displayed from matplotlib.pyplot.cm\n",
    "                  see http://matplotlib.org/examples/color/colormaps_reference.html\n",
    "                  plt.get_cmap('jet') or plt.cm.Blues\n",
    "\n",
    "    normalize:    If False, plot the raw numbers\n",
    "                  If True, plot the proportions\n",
    "\n",
    "    Usage\n",
    "    -----\n",
    "    plot_confusion_matrix(cm           = cm,                  # confusion matrix created by\n",
    "                                                              # sklearn.metrics.confusion_matrix\n",
    "                          normalize    = True,                # show proportions\n",
    "                          target_names = y_labels_vals,       # list of names of the classes\n",
    "                          title        = best_estimator_name) # title of graph\n",
    "\n",
    "    Citiation\n",
    "    ---------\n",
    "    http://scikit-learn.org/stable/auto_examples/model_selection/plot_confusion_matrix.html\n",
    "\n",
    "    \"\"\"\n",
    "    import matplotlib.pyplot as plt\n",
    "    import numpy as np\n",
    "    import itertools\n",
    "\n",
    "    accuracy = np.trace(cm) / np.sum(cm).astype('float')\n",
    "    misclass = 1 - accuracy\n",
    "\n",
    "    if cmap is None:\n",
    "        cmap = plt.get_cmap('Blues')\n",
    "\n",
    "    plt.figure(figsize=(8, 6))\n",
    "    plt.imshow(cm, interpolation='nearest', cmap=cmap)\n",
    "    plt.title(title)\n",
    "    plt.colorbar()\n",
    "\n",
    "    if target_names is not None:\n",
    "        tick_marks = np.arange(len(target_names))\n",
    "        plt.xticks(tick_marks, target_names, rotation=45)\n",
    "        plt.yticks(tick_marks, target_names)\n",
    "\n",
    "    if normalize:\n",
    "        cm = cm.astype('float') / cm.sum(axis=1)[:, np.newaxis]\n",
    "\n",
    "\n",
    "    thresh = cm.max() / 1.5 if normalize else cm.max() / 2\n",
    "    for i, j in itertools.product(range(cm.shape[0]), range(cm.shape[1])):\n",
    "        if normalize:\n",
    "            plt.text(j, i, \"{:0.4f}\".format(cm[i, j]),\n",
    "                     horizontalalignment=\"center\",\n",
    "                     color=\"white\" if cm[i, j] > thresh else \"black\")\n",
    "        else:\n",
    "            plt.text(j, i, \"{:,}\".format(cm[i, j]),\n",
    "                     horizontalalignment=\"center\",\n",
    "                     color=\"white\" if cm[i, j] > thresh else \"black\")\n",
    "\n",
    "\n",
    "    plt.tight_layout()\n",
    "    plt.ylabel('True label')\n",
    "    plt.xlabel('Predicted label\\naccuracy={:0.4f}; misclass={:0.4f}'.format(accuracy, misclass))\n",
    "    plt.show()"
   ]
  },
  {
   "cell_type": "code",
   "execution_count": 29,
   "metadata": {},
   "outputs": [],
   "source": [
    "start_date = datetime.date(2019, 2, 26)\n",
    "end_date = datetime.date(2019, 8, 24)\n",
    "google_records_period = google_records[(google_records[:,0]<=end_date) & (google_records[:,0]>=start_date) ]\n",
    "testing_event_ids = google_records_period[np.random.choice(google_records_period.shape[0], 100, replace=False), :]"
   ]
  },
  {
   "cell_type": "code",
   "execution_count": 30,
   "metadata": {},
   "outputs": [],
   "source": [
    "testing_event_ids = pd.DataFrame(data=testing_event_ids, columns=['feed-date', 'url', 'title', 'text', 'published-date', 'predicted'])"
   ]
  },
  {
   "cell_type": "code",
   "execution_count": 31,
   "metadata": {},
   "outputs": [],
   "source": [
    "testing_event_ids.to_csv('testing_event_ids.csv', index=False)"
   ]
  },
  {
   "cell_type": "code",
   "execution_count": 61,
   "metadata": {},
   "outputs": [
    {
     "data": {
      "text/plain": [
       "3990"
      ]
     },
     "execution_count": 61,
     "metadata": {},
     "output_type": "execute_result"
    }
   ],
   "source": [
    "#len(google_records_period)\n",
    "\n",
    "len(google_records_period[(google_records_period[:,4] == None) & (google_records_period[:,5] != -1)])\n",
    "#len(google_records_period[google_records_period[:,5] != -1])"
   ]
  },
  {
   "cell_type": "code",
   "execution_count": 33,
   "metadata": {},
   "outputs": [],
   "source": [
    "data = pd.read_csv('testing_event_ids.csv')"
   ]
  },
  {
   "cell_type": "code",
   "execution_count": 44,
   "metadata": {},
   "outputs": [
    {
     "data": {
      "image/png": "[encoded data removed]",
      "text/plain": [
       "<Figure size 576x432 with 2 Axes>"
      ]
     },
     "metadata": {
      "needs_background": "light"
     },
     "output_type": "display_data"
    }
   ],
   "source": [
    "from sklearn.metrics import confusion_matrix\n",
    "cm = confusion_matrix( data['actual'] , data['predicted'])\n",
    "plot_confusion_matrix(cm,['err','aadhar','gst','demonetisation','farmers'], normalize=True)"
   ]
  },
  {
   "cell_type": "code",
   "execution_count": 31,
   "metadata": {},
   "outputs": [],
   "source": [
    "### Re validating"
   ]
  },
  {
   "cell_type": "code",
   "execution_count": 49,
   "metadata": {},
   "outputs": [],
   "source": [
    "data = pd.read_csv('testing_event_ids.csv')\n",
    "data1=data\n",
    "data1['re'] = [-2]*len(data1)"
   ]
  },
  {
   "cell_type": "code",
   "execution_count": 50,
   "metadata": {},
   "outputs": [
    {
     "name": "stderr",
     "output_type": "stream",
     "text": [
      "/Users/chakshu/anaconda3/lib/python3.6/site-packages/ipykernel_launcher.py:6: SettingWithCopyWarning: \n",
      "A value is trying to be set on a copy of a slice from a DataFrame\n",
      "\n",
      "See the caveats in the documentation: https://pandas.pydata.org/pandas-docs/stable/user_guide/indexing.html#returning-a-view-versus-a-copy\n",
      "  \n"
     ]
    }
   ],
   "source": [
    "for i, act in enumerate(data1['actual']):\n",
    "    #if i==49:\n",
    "    #    from IPython import embed; embed()\n",
    "    #print(i)\n",
    "    #print(data1['title'][i])\n",
    "    data1['re'][i] = find_event(data1['title'][i], data1['text'][i])"
   ]
  },
  {
   "cell_type": "code",
   "execution_count": 51,
   "metadata": {},
   "outputs": [
    {
     "data": {
      "image/png": "[encoded data removed]",
      "text/plain": [
       "<Figure size 576x432 with 2 Axes>"
      ]
     },
     "metadata": {
      "needs_background": "light"
     },
     "output_type": "display_data"
    }
   ],
   "source": [
    "from sklearn.metrics import confusion_matrix\n",
    "cm = confusion_matrix( data1['actual'] , data1['re'])\n",
    "plot_confusion_matrix(cm,['err','aadhar','gst','demonetisation','farmers'], normalize=False)"
   ]
  }
 ],
 "metadata": {
  "kernelspec": {
   "display_name": "Python 3",
   "language": "python",
   "name": "python3"
  },
  "language_info": {
   "codemirror_mode": {
    "name": "ipython",
    "version": 3
   },
   "file_extension": ".py",
   "mimetype": "text/x-python",
   "name": "python",
   "nbconvert_exporter": "python",
   "pygments_lexer": "ipython3",
   "version": "3.6.9"
  }
 },
 "nbformat": 4,
 "nbformat_minor": 4
}
